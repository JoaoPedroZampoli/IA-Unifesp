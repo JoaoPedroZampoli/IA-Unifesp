{
  "nbformat": 4,
  "nbformat_minor": 0,
  "metadata": {
    "colab": {
      "provenance": []
    },
    "kernelspec": {
      "name": "python3",
      "display_name": "Python 3"
    },
    "language_info": {
      "name": "python"
    }
  },
  "cells": [
    {
      "cell_type": "markdown",
      "source": [
        "# Aula 14\n",
        "### Aprendizado Supervisionado - Parte 2\n",
        "\n",
        "- Testar o SVM, uma rede Perceptron e uma MLP para o dataset Wine\n",
        "- Separe aleatoriamente 70% dos dados para treino e 30% para teste e reporte com um print da saída qual a acurácia do algoritmo (número de acertos).\n",
        "- Descrever todos os parâmetros usados em seus algoritmos!"
      ],
      "metadata": {
        "id": "UH4I6zbfICXS"
      }
    },
    {
      "cell_type": "markdown",
      "source": [
        "#### Setup do Dataset\n",
        "\n",
        "- Instalação do UCI Machine Learning Repo para usar de maneira mais fácil o Dataset\n",
        "\n",
        "- Inicializando [Dataset Wine](https://archive.ics.uci.edu/dataset/109/wine) e atribuindo ele para um Dataframe do Pandas\n",
        "\n",
        "- Separação de Dados do Dataset entre 70% para treinamento e 30% para testes"
      ],
      "metadata": {
        "id": "hzcEAK3FKYM2"
      }
    },
    {
      "cell_type": "code",
      "source": [
        "pip install ucimlrepo"
      ],
      "metadata": {
        "colab": {
          "base_uri": "https://localhost:8080/"
        },
        "id": "sNhc3lwMLM33",
        "outputId": "f23af9eb-1990-40f6-f48d-84cb1c3d8752"
      },
      "execution_count": null,
      "outputs": [
        {
          "output_type": "stream",
          "name": "stdout",
          "text": [
            "Collecting ucimlrepo\n",
            "  Downloading ucimlrepo-0.0.7-py3-none-any.whl.metadata (5.5 kB)\n",
            "Requirement already satisfied: pandas>=1.0.0 in /usr/local/lib/python3.11/dist-packages (from ucimlrepo) (2.2.2)\n",
            "Requirement already satisfied: certifi>=2020.12.5 in /usr/local/lib/python3.11/dist-packages (from ucimlrepo) (2025.4.26)\n",
            "Requirement already satisfied: numpy>=1.23.2 in /usr/local/lib/python3.11/dist-packages (from pandas>=1.0.0->ucimlrepo) (2.0.2)\n",
            "Requirement already satisfied: python-dateutil>=2.8.2 in /usr/local/lib/python3.11/dist-packages (from pandas>=1.0.0->ucimlrepo) (2.9.0.post0)\n",
            "Requirement already satisfied: pytz>=2020.1 in /usr/local/lib/python3.11/dist-packages (from pandas>=1.0.0->ucimlrepo) (2025.2)\n",
            "Requirement already satisfied: tzdata>=2022.7 in /usr/local/lib/python3.11/dist-packages (from pandas>=1.0.0->ucimlrepo) (2025.2)\n",
            "Requirement already satisfied: six>=1.5 in /usr/local/lib/python3.11/dist-packages (from python-dateutil>=2.8.2->pandas>=1.0.0->ucimlrepo) (1.17.0)\n",
            "Downloading ucimlrepo-0.0.7-py3-none-any.whl (8.0 kB)\n",
            "Installing collected packages: ucimlrepo\n",
            "Successfully installed ucimlrepo-0.0.7\n"
          ]
        }
      ]
    },
    {
      "cell_type": "code",
      "source": [
        "from ucimlrepo import fetch_ucirepo\n",
        "import pandas as pd\n",
        "\n",
        "wine = fetch_ucirepo(id=109)\n",
        "X = wine.data.features\n",
        "Y = wine.data.targets['class']\n",
        "\n",
        "print(wine.metadata)\n",
        "\n",
        "print(wine.variables)\n",
        "print(Y.head)"
      ],
      "metadata": {
        "colab": {
          "base_uri": "https://localhost:8080/"
        },
        "id": "JsjKAcwjKgby",
        "outputId": "dcad6515-2ea1-4c0a-ba84-9f3023f50a73"
      },
      "execution_count": null,
      "outputs": [
        {
          "output_type": "stream",
          "name": "stdout",
          "text": [
            "{'uci_id': 109, 'name': 'Wine', 'repository_url': 'https://archive.ics.uci.edu/dataset/109/wine', 'data_url': 'https://archive.ics.uci.edu/static/public/109/data.csv', 'abstract': 'Using chemical analysis to determine the origin of wines', 'area': 'Physics and Chemistry', 'tasks': ['Classification'], 'characteristics': ['Tabular'], 'num_instances': 178, 'num_features': 13, 'feature_types': ['Integer', 'Real'], 'demographics': [], 'target_col': ['class'], 'index_col': None, 'has_missing_values': 'no', 'missing_values_symbol': None, 'year_of_dataset_creation': 1992, 'last_updated': 'Mon Aug 28 2023', 'dataset_doi': '10.24432/C5PC7J', 'creators': ['Stefan Aeberhard', 'M. Forina'], 'intro_paper': {'ID': 246, 'type': 'NATIVE', 'title': 'Comparative analysis of statistical pattern recognition methods in high dimensional settings', 'authors': 'S. Aeberhard, D. Coomans, O. Vel', 'venue': 'Pattern Recognition', 'year': 1994, 'journal': None, 'DOI': '10.1016/0031-3203(94)90145-7', 'URL': 'https://www.semanticscholar.org/paper/83dc3e4030d7b9fbdbb4bde03ce12ab70ca10528', 'sha': None, 'corpus': None, 'arxiv': None, 'mag': None, 'acl': None, 'pmid': None, 'pmcid': None}, 'additional_info': {'summary': 'These data are the results of a chemical analysis of wines grown in the same region in Italy but derived from three different cultivars. The analysis determined the quantities of 13 constituents found in each of the three types of wines. \\r\\n\\r\\nI think that the initial data set had around 30 variables, but for some reason I only have the 13 dimensional version. I had a list of what the 30 or so variables were, but a.)  I lost it, and b.), I would not know which 13 variables are included in the set.\\r\\n\\r\\nThe attributes are (dontated by Riccardo Leardi, riclea@anchem.unige.it )\\r\\n1) Alcohol\\r\\n2) Malic acid\\r\\n3) Ash\\r\\n4) Alcalinity of ash  \\r\\n5) Magnesium\\r\\n6) Total phenols\\r\\n7) Flavanoids\\r\\n8) Nonflavanoid phenols\\r\\n9) Proanthocyanins\\r\\n10)Color intensity\\r\\n11)Hue\\r\\n12)OD280/OD315 of diluted wines\\r\\n13)Proline \\r\\n\\r\\nIn a classification context, this is a well posed problem with \"well behaved\" class structures. A good data set for first testing of a new classifier, but not very challenging.           ', 'purpose': 'test', 'funded_by': None, 'instances_represent': None, 'recommended_data_splits': None, 'sensitive_data': None, 'preprocessing_description': None, 'variable_info': 'All attributes are continuous\\r\\n\\t\\r\\nNo statistics available, but suggest to standardise variables for certain uses (e.g. for us with classifiers which are NOT scale invariant)\\r\\n\\r\\nNOTE: 1st attribute is class identifier (1-3)', 'citation': None}}\n",
            "                            name     role         type demographic  \\\n",
            "0                          class   Target  Categorical        None   \n",
            "1                        Alcohol  Feature   Continuous        None   \n",
            "2                      Malicacid  Feature   Continuous        None   \n",
            "3                            Ash  Feature   Continuous        None   \n",
            "4              Alcalinity_of_ash  Feature   Continuous        None   \n",
            "5                      Magnesium  Feature      Integer        None   \n",
            "6                  Total_phenols  Feature   Continuous        None   \n",
            "7                     Flavanoids  Feature   Continuous        None   \n",
            "8           Nonflavanoid_phenols  Feature   Continuous        None   \n",
            "9                Proanthocyanins  Feature   Continuous        None   \n",
            "10               Color_intensity  Feature   Continuous        None   \n",
            "11                           Hue  Feature   Continuous        None   \n",
            "12  0D280_0D315_of_diluted_wines  Feature   Continuous        None   \n",
            "13                       Proline  Feature      Integer        None   \n",
            "\n",
            "   description units missing_values  \n",
            "0         None  None             no  \n",
            "1         None  None             no  \n",
            "2         None  None             no  \n",
            "3         None  None             no  \n",
            "4         None  None             no  \n",
            "5         None  None             no  \n",
            "6         None  None             no  \n",
            "7         None  None             no  \n",
            "8         None  None             no  \n",
            "9         None  None             no  \n",
            "10        None  None             no  \n",
            "11        None  None             no  \n",
            "12        None  None             no  \n",
            "13        None  None             no  \n",
            "<bound method NDFrame.head of 0      1\n",
            "1      1\n",
            "2      1\n",
            "3      1\n",
            "4      1\n",
            "      ..\n",
            "173    3\n",
            "174    3\n",
            "175    3\n",
            "176    3\n",
            "177    3\n",
            "Name: class, Length: 178, dtype: int64>\n"
          ]
        }
      ]
    },
    {
      "cell_type": "code",
      "source": [
        "# Separando os dados entre treinamento (70%) e testagem (30%)\n",
        "from sklearn.model_selection import train_test_split\n",
        "\n",
        "X_train, X_test, Y_train, Y_test = train_test_split(X, Y, test_size=0.3, random_state=42) # 42 pois é bastante usado"
      ],
      "metadata": {
        "id": "y69Ao2ktRGGz"
      },
      "execution_count": null,
      "outputs": []
    },
    {
      "cell_type": "markdown",
      "source": [
        "#### SVM - Support Vector Machine"
      ],
      "metadata": {
        "id": "bMWdE5rOI6-u"
      }
    },
    {
      "cell_type": "code",
      "execution_count": null,
      "metadata": {
        "colab": {
          "base_uri": "https://localhost:8080/"
        },
        "id": "fVkGEqa-HO3o",
        "outputId": "905a2254-9027-4336-fa48-0881e5681fd9"
      },
      "outputs": [
        {
          "output_type": "stream",
          "name": "stdout",
          "text": [
            "SVM: \n",
            "Acertos: 53 de 54 \n",
            "Acurácia de: 0.98\n"
          ]
        }
      ],
      "source": [
        "from sklearn import svm\n",
        "from sklearn.metrics import accuracy_score\n",
        "\n",
        "clf = svm.SVC(kernel='linear')\n",
        "clf.fit(X_train, Y_train)\n",
        "\n",
        "Y_pred = clf.predict(X_test)\n",
        "\n",
        "accuracy = accuracy_score(Y_test, Y_pred)\n",
        "print(f'SVM: \\nAcertos: {sum(Y_pred == Y_test)} de {len(Y_test)} \\nAcurácia de: {accuracy:.2f}')"
      ]
    },
    {
      "cell_type": "markdown",
      "source": [
        "#### Rede Perceptron"
      ],
      "metadata": {
        "id": "5C5UDwhTKApX"
      }
    },
    {
      "cell_type": "code",
      "source": [
        "from sklearn.linear_model import Perceptron\n",
        "\n",
        "clf = Perceptron(tol=1e-3, random_state=0)\n",
        "clf.fit(X_train, Y_train)\n",
        "\n",
        "Y_pred = clf.predict(X_test)\n",
        "\n",
        "accuracy = accuracy_score(Y_test, Y_pred)\n",
        "print(f'Perceptron: \\nAcertos: {sum(Y_pred == Y_test)} de {len(Y_test)} \\nAcurácia de: {accuracy:.2f}')"
      ],
      "metadata": {
        "colab": {
          "base_uri": "https://localhost:8080/"
        },
        "id": "zPDpfgD4ZHH5",
        "outputId": "a467a329-d336-4ee1-c7c0-8988f64d7c8a"
      },
      "execution_count": null,
      "outputs": [
        {
          "output_type": "stream",
          "name": "stdout",
          "text": [
            "Perceptron: \n",
            "Acertos: 28 de 54 \n",
            "Acurácia de: 0.52\n"
          ]
        }
      ]
    },
    {
      "cell_type": "markdown",
      "source": [
        "#### MLP - MultiLayer Perceptron"
      ],
      "metadata": {
        "id": "q-3wkTBiKJSR"
      }
    },
    {
      "cell_type": "code",
      "source": [
        "from sklearn.neural_network import MLPClassifier\n",
        "\n",
        "clf = MLPClassifier(solver='lbfgs', alpha=1e-5, hidden_layer_sizes=(5, 2), random_state=1)\n",
        "clf.fit(X_train, Y_train)\n",
        "\n",
        "Y_pred = clf.predict(X_test)\n",
        "\n",
        "accuracy = accuracy_score(Y_test, Y_pred)\n",
        "print(f'MultiLayer Perceptron (MLP): \\nAcertos: {sum(Y_pred == Y_test)} de {len(Y_test)} \\nAcurácia de: {accuracy:.2f}')"
      ],
      "metadata": {
        "colab": {
          "base_uri": "https://localhost:8080/"
        },
        "id": "40mlyqHiaRuK",
        "outputId": "e7c28fb2-2baa-4c3c-e743-2bf93fe900c4"
      },
      "execution_count": null,
      "outputs": [
        {
          "output_type": "stream",
          "name": "stdout",
          "text": [
            "MultiLayer Perceptron (MLP): \n",
            "Acertos: 21 de 54 \n",
            "Acurácia de: 0.39\n"
          ]
        }
      ]
    },
    {
      "cell_type": "markdown",
      "source": [
        "### Padronização de Dados\n",
        "\n",
        "Como a Acurácia está baixa no Perceptron e em MLP (MultiLayer Perceptron), será realizada uma padronização dos dados com o fim de melhorar as predições realizadas por método de inferência.\n",
        "\n",
        "- Utilizando Standard Scaler"
      ],
      "metadata": {
        "id": "5CrQwK--ae42"
      }
    },
    {
      "cell_type": "code",
      "source": [
        "from sklearn.preprocessing import StandardScaler\n",
        "\n",
        "# Escalonando os dados\n",
        "scaler = StandardScaler()\n",
        "X_train_scaled = scaler.fit_transform(X_train)\n",
        "X_test_scaled = scaler.transform(X_test)"
      ],
      "metadata": {
        "id": "kEWCinGwbCJ5"
      },
      "execution_count": null,
      "outputs": []
    },
    {
      "cell_type": "markdown",
      "source": [
        "#### SVM (Support Vector Machine) com Dados Padronizados"
      ],
      "metadata": {
        "id": "a6Hkkg5t7OId"
      }
    },
    {
      "cell_type": "code",
      "source": [
        "clf = svm.SVC(kernel='linear')\n",
        "clf.fit(X_train_scaled, Y_train)\n",
        "\n",
        "Y_pred = clf.predict(X_test_scaled)\n",
        "\n",
        "accuracy = accuracy_score(Y_test, Y_pred)\n",
        "print(f'SVM: \\nAcertos: {sum(Y_pred == Y_test)} de {len(Y_test)} \\nAcurácia de: {accuracy:.2f}')"
      ],
      "metadata": {
        "colab": {
          "base_uri": "https://localhost:8080/"
        },
        "id": "EiuzRGvd7Nt0",
        "outputId": "ded421ff-88b2-4d75-b241-60481212114c"
      },
      "execution_count": null,
      "outputs": [
        {
          "output_type": "stream",
          "name": "stdout",
          "text": [
            "SVM: \n",
            "Acertos: 53 de 54 \n",
            "Acurácia de: 0.98\n"
          ]
        }
      ]
    },
    {
      "cell_type": "markdown",
      "source": [
        "#### Perceptron com Dados Padronizados"
      ],
      "metadata": {
        "id": "3ahTvfWubg7k"
      }
    },
    {
      "cell_type": "code",
      "source": [
        "clf = Perceptron(tol=1e-3, random_state=0)\n",
        "clf.fit(X_train_scaled, Y_train)\n",
        "\n",
        "Y_pred = clf.predict(X_test_scaled)\n",
        "\n",
        "accuracy = accuracy_score(Y_test, Y_pred)\n",
        "print(f'Perceptron: \\nAcertos: {sum(Y_pred == Y_test)} de {len(Y_test)} \\nAcurácia de: {accuracy:.2f}')"
      ],
      "metadata": {
        "colab": {
          "base_uri": "https://localhost:8080/"
        },
        "id": "wFZBl7d9azst",
        "outputId": "b04f4bdd-8918-4dd6-8926-46a137debe29"
      },
      "execution_count": null,
      "outputs": [
        {
          "output_type": "stream",
          "name": "stdout",
          "text": [
            "Perceptron: \n",
            "Acertos: 53 de 54 \n",
            "Acurácia de: 0.98\n"
          ]
        }
      ]
    },
    {
      "cell_type": "markdown",
      "source": [
        "#### MLP (Multilayer Perceptron) com Dados Padronizados"
      ],
      "metadata": {
        "id": "n_mZJI-7bofd"
      }
    },
    {
      "cell_type": "code",
      "source": [
        "clf = MLPClassifier(solver='lbfgs', alpha=1e-5, hidden_layer_sizes=(5, 2), random_state=1)\n",
        "clf.fit(X_train_scaled, Y_train)\n",
        "\n",
        "Y_pred = clf.predict(X_test_scaled)\n",
        "\n",
        "accuracy = accuracy_score(Y_test, Y_pred)\n",
        "print(f'MultiLayer Perceptron (MLP): \\nAcertos: {sum(Y_pred == Y_test)} de {len(Y_test)} \\nAcurácia de: {accuracy:.2f}')"
      ],
      "metadata": {
        "colab": {
          "base_uri": "https://localhost:8080/"
        },
        "id": "an7m5aMpbGcg",
        "outputId": "b29f6c6c-5a5a-4895-e5b2-c1e06c21576c"
      },
      "execution_count": null,
      "outputs": [
        {
          "output_type": "stream",
          "name": "stdout",
          "text": [
            "MultiLayer Perceptron (MLP): \n",
            "Acertos: 53 de 54 \n",
            "Acurácia de: 0.98\n"
          ]
        }
      ]
    }
  ]
}