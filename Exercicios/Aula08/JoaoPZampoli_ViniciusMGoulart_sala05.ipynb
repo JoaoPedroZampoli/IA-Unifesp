{
 "cells": [
  {
   "cell_type": "markdown",
   "id": "21cb4df4",
   "metadata": {},
   "source": [
    "# Atividade IA - Sala\n",
    "## Problema: Otimização de Rota para Coleta de Resíduos Urbanos com Restrições\n",
    "#### Autores:\n",
    " - Vinicius Martins Goulart\n",
    " - João Pedro da Silva Zampoli\n",
    "\n",
    "<br>\n",
    "<b>- Contexto:</b>\n",
    "Uma empresa de coleta de resíduos precisa definir a melhor rota para um caminhão\n",
    "que deve passar por diversos bairros para coletar o lixo. Cada bairro tem uma\n",
    "quantidade diferente de lixo (em volume), e o caminhão possui uma capacidade\n",
    "máxima de carga. O objetivo é minimizar a distância total percorrida, respeitando a\n",
    "capacidade do caminhão e garantindo que todos os bairros sejam atendidos ao longo\n",
    "do dia (em mais de uma viagem, se necessário).\n",
    "\n",
    "<b> - Objetivo:</b> Minimizar a distância total percorrida e o número de viagens realizadas, respeitando a\n",
    "capacidade máxima do caminhão.\n",
    "\n",
    "<b> - Parâmetros para o Algoritmo Genético:</b>\n",
    "<b> - Cromossomo: </b>\n",
    "Uma sequência que representa a ordem dos bairros visitados em cada viagem,\n",
    "com separadores entre viagens.\n",
    "<br><b> - Função de aptidão (fitness): </b>\n",
    "<br> - Penaliza soluções com:\n",
    "<br>• Distância total muito alta.\n",
    "<br>• Capacidade do caminhão excedida em qualquer viagem.\n",
    "<br>• Número excessivo de viagens.\n",
    "<br><br><b> - Operadores genéticos: </b>\n",
    "<br>• Seleção\n",
    "<br>• Crossover\n",
    "<br>• Mutação\n",
    "<br><br><b> - Parâmetros do problema: </b>\n",
    "<br>• Matriz de distâncias entre bairros.\n",
    "<br>• Volume de lixo por bairro.\n",
    "<br>• Capacidade do caminhão.\n",
    "\n"
   ]
  },
  {
   "cell_type": "code",
   "execution_count": null,
   "id": "54d22ab8",
   "metadata": {},
   "outputs": [],
   "source": [
    "import random"
   ]
  },
  {
   "cell_type": "code",
   "execution_count": null,
   "id": "05682912",
   "metadata": {},
   "outputs": [
    {
     "ename": "UndefVarError",
     "evalue": "UndefVarError: `def` not defined in `Main`\nSuggestion: check for spelling errors or missing imports.",
     "output_type": "error",
     "traceback": [
      "UndefVarError: `def` not defined in `Main`\n",
      "Suggestion: check for spelling errors or missing imports.\n"
     ]
    }
   ],
   "source": [
    "maxCapacity = 8\n",
    "volumes = [2, 1, 3, 2, 1, 3, 1, 2, 3, 1, 2, 1] #volumes de cada bairro fornecidos no pdf\n",
    "numBairros = len(volumes)\n",
    "minViagens = sum(volumes) / maxCapacity\n",
    "numPopulacao = 10 #Numero de cromossomos que serão criados de início\n",
    "\n",
    "def cria_cromossomo():\n",
    "  bairros = list(range(numBairros))\n",
    "  random.shuffle(bairros)\n",
    "  numViagens = random.randint(minViagens, numBairros - minViagens) #numero de viagens feitas gerado aleatoriamente\n",
    "  for i in range(numViagens):\n",
    "    posicao = random.randint(0, len(bairros))\n",
    "    bairros.insert(posicao,\"|\") #A string inserida será um marcador usado para separar que bairros foram visitados em cada viagem\n",
    "  return bairros\n",
    "\n",
    "def cria_populacao(numPopulacao):\n",
    "  populacao = []\n",
    "  for i in range(numPopulacao):\n",
    "    populacao.append(cria_cromossomo())\n",
    "  return populacao\n",
    "\n",
    "def fitness(cromossomo):\n",
    "    viagens = []\n",
    "    viagem = []\n",
    "    for item in cromossomo:\n",
    "        if item == \"|\":\n",
    "            if viagem:\n",
    "                viagens.append(viagem)\n",
    "            viagem = []\n",
    "        else:\n",
    "            viagem.append(item)\n",
    "    if viagem:\n",
    "        viagens.append(viagem)\n",
    "\n",
    "    total_distancia = 0\n",
    "    penalidade = 0\n",
    "\n",
    "    for viagem in viagens:\n",
    "        carga = sum(volumes[b] for b in viagem)\n",
    "        if carga > maxCapacity:\n",
    "            penalidade += 1000  # penalidade por sobrecarga\n",
    "\n",
    "        if viagem:\n",
    "            distancia = distancias[0][viagem[0]]  # depósito para o primeiro bairro\n",
    "            for i in range(len(viagem) - 1):\n",
    "                distancia += distancias[viagem[i]][viagem[i+1]]\n",
    "            distancia += distancias[viagem[-1]][0]  # volta ao depósito\n",
    "            total_distancia += distancia\n",
    "\n",
    "    penalidade += (len(viagens) - minViagens) * 100  # penalidade por excesso de viagens\n",
    "    return total_distancia + penalidade"
   ]
  }
 ],
 "metadata": {
  "kernelspec": {
   "display_name": "Python 3",
   "name": "python3"
  },
  "language_info": {
   "name": "python"
  }
 },
 "nbformat": 4,
 "nbformat_minor": 5
}
